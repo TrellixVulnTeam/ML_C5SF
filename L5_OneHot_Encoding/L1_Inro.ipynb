{
 "cells": [
  {
   "cell_type": "code",
   "execution_count": 1,
   "id": "51dd04cb",
   "metadata": {},
   "outputs": [],
   "source": [
    "import pandas as pd"
   ]
  },
  {
   "cell_type": "markdown",
   "id": "696499db",
   "metadata": {},
   "source": [
    "### There are two types\n",
    "### 1) Nominal\n",
    "### Ex1: Chennai , Banglore, Vellore\n",
    "### Ex2: male , female\n",
    "### Ex3: green , red , blue\n",
    "### 2) Ordinal\n",
    "### Ex1: Statisfied,neutral,disstatisfied\n",
    "### Ex2: graduate,masters,phd\n",
    "### Ex3: high,medium,low"
   ]
  },
  {
   "cell_type": "code",
   "execution_count": null,
   "id": "7b17b078",
   "metadata": {},
   "outputs": [],
   "source": []
  }
 ],
 "metadata": {
  "kernelspec": {
   "display_name": "Python 3 (ipykernel)",
   "language": "python",
   "name": "python3"
  },
  "language_info": {
   "codemirror_mode": {
    "name": "ipython",
    "version": 3
   },
   "file_extension": ".py",
   "mimetype": "text/x-python",
   "name": "python",
   "nbconvert_exporter": "python",
   "pygments_lexer": "ipython3",
   "version": "3.8.10"
  }
 },
 "nbformat": 4,
 "nbformat_minor": 5
}
